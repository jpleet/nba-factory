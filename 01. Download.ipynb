{
 "cells": [
  {
   "cell_type": "markdown",
   "id": "5493d1e3-4f6b-489a-8597-9f1ef49d951c",
   "metadata": {},
   "source": [
    "# Download Data\n",
    "\n",
    "Notbook to download data.  \n",
    "Data comes from: https://eightthirtyfour.com/data  \n",
    "The longest dataset of NBA play-by-plays I can find  \n",
    "Downloaded into data/raw_pbp  "
   ]
  },
  {
   "cell_type": "code",
   "execution_count": null,
   "id": "2381e182-b3a6-4a1b-bf01-655bd0b89bd9",
   "metadata": {},
   "outputs": [],
   "source": [
    "import os\n",
    "import requests\n",
    "import shutil\n",
    "from multiprocessing import Pool\n",
    "from tqdm import tqdm"
   ]
  },
  {
   "cell_type": "code",
   "execution_count": null,
   "id": "e35e1c0e-9931-4a18-a382-374ba46e9f47",
   "metadata": {},
   "outputs": [],
   "source": [
    "# make save folder\n",
    "if not os.path.exists('data'):\n",
    "    os.makedirs('data')\n",
    "if not os.path.exists('data/raw_pbp'):\n",
    "    os.makedirs('data/raw_pbp/')"
   ]
  },
  {
   "cell_type": "markdown",
   "id": "3394868b-6fe9-4db7-95b1-bbb351fe2743",
   "metadata": {},
   "source": [
    "## Functions"
   ]
  },
  {
   "cell_type": "code",
   "execution_count": null,
   "id": "60c7f7d6-8d5c-4d5a-b045-b11db064dff2",
   "metadata": {},
   "outputs": [],
   "source": [
    "def download_season(season):\n",
    "    \"\"\"\n",
    "    Download a single season file\n",
    "    \"\"\"\n",
    "    \n",
    "    season_name = f'{season}-{str(season+1)[2:]}'\n",
    "    filename = f'data/raw_pbp/{season_name}_pbp.csv'\n",
    "    if not os.path.exists(filename):\n",
    "        \n",
    "        url_base = 'https://eightthirtyfour.com/nba/pbp/'\n",
    "\n",
    "        url = url_base +  season_name + '_pbp.csv'\n",
    "        with requests.get(url, stream=True) as r:\n",
    "            with open(filename, 'wb') as f:\n",
    "                shutil.copyfileobj(r.raw, f) \n",
    "    return True\n",
    "                \n",
    "def download_player_list():\n",
    "    \"\"\"\n",
    "    Download player ID list\n",
    "    \"\"\"\n",
    "    \n",
    "    filename = 'data/raw_pbp/playerlist.csv'\n",
    "    if not os.path.exists(filename):\n",
    "        \n",
    "        url = 'https://eightthirtyfour.com/nba/pbp/playerlist.csv'\n",
    "        \n",
    "        with request.get(url) as r:\n",
    "            with open(filename, 'wb') as f:\n",
    "                shutil.copyfileobj(r.raw, f)"
   ]
  },
  {
   "cell_type": "markdown",
   "id": "fca856af-5790-42c1-a5cd-8aa3f2957b32",
   "metadata": {},
   "source": [
    "## Download"
   ]
  },
  {
   "cell_type": "code",
   "execution_count": null,
   "id": "d3cf441f-e91e-485f-bba0-0162c0d51379",
   "metadata": {},
   "outputs": [],
   "source": [
    "print('Downloading player list')\n",
    "download_player_list()\n",
    "\n",
    "print('Downloading seasons')\n",
    "\n",
    "# create list of seasons\n",
    "seasons = range(2000, 2019)\n",
    "\n",
    "# iterate over seasons and download in parallel\n",
    "\n",
    "# create a progress bar\n",
    "pbar = tqdm(total=len(seasons))\n",
    "# function to update progress bar and results\n",
    "def update(a):\n",
    "    pbar.update()\n",
    "\n",
    "# create pool to parallelize\n",
    "pool = Pool()\n",
    "\n",
    "# download each season in parallel\n",
    "for season in seasons:\n",
    "    p = pool.apply_async(download_season, \n",
    "                         args=(season, ), \n",
    "                         callback=update)\n",
    "\n",
    "# wait for parallel processes to finish\n",
    "pool.close()\n",
    "pool.join()\n",
    "# close when all processes finished\n",
    "pbar.close() "
   ]
  }
 ],
 "metadata": {
  "kernelspec": {
   "display_name": "Python 3",
   "language": "python",
   "name": "python3"
  },
  "language_info": {
   "codemirror_mode": {
    "name": "ipython",
    "version": 3
   },
   "file_extension": ".py",
   "mimetype": "text/x-python",
   "name": "python",
   "nbconvert_exporter": "python",
   "pygments_lexer": "ipython3",
   "version": "3.9.6"
  }
 },
 "nbformat": 4,
 "nbformat_minor": 5
}

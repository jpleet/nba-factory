{
 "cells": [
  {
   "cell_type": "markdown",
   "id": "6def1d2e-6936-436b-a90d-735288f2708a",
   "metadata": {
    "tags": []
   },
   "source": [
    "# Download data from NBA-API\n",
    "\n",
    "Ideally would run in parallel, but the API seems to limit parallel calls, even with special header. Runs consecutively, which is slow (took me over 2 days), but only needs to be done once"
   ]
  },
  {
   "cell_type": "markdown",
   "id": "ac79170d-a91f-40e4-8a88-1246fcffb631",
   "metadata": {},
   "source": [
    "## Setup"
   ]
  },
  {
   "cell_type": "code",
   "execution_count": null,
   "id": "7c4545a1-c212-475a-a61e-0087387d4b4b",
   "metadata": {},
   "outputs": [],
   "source": [
    "import os\n",
    "from tqdm import tqdm\n",
    "import joblib\n",
    "import time\n",
    "import pandas as pd\n",
    "\n",
    "from nba_api.stats.endpoints import leaguegamefinder, playbyplayv2, gamerotation\n",
    "from nba_api.stats.library.parameters import Season, SeasonType, LeagueID"
   ]
  },
  {
   "cell_type": "code",
   "execution_count": null,
   "id": "eb3c8473-051c-427b-a8b3-f779e8955399",
   "metadata": {},
   "outputs": [],
   "source": [
    "# from: https://stackoverflow.com/a/67817678\n",
    "HEADERS = {'Accept': 'application/json, text/plain, */*',\n",
    "           'Accept-Encoding': 'gzip, deflate, br',\n",
    "           'Accept-Language': 'en-US,en;q=0.9',\n",
    "           'Connection': 'keep-alive',\n",
    "           'Host': 'stats.nba.com',\n",
    "           'Origin': 'https://www.nba.com',\n",
    "           'Referer': 'https://www.nba.com/',\n",
    "           'sec-ch-ua': '\"Google Chrome\";v=\"87\", \"\\\"Not;A\\\\Brand\";v=\"99\", \"Chromium\";v=\"87\"',\n",
    "           'sec-ch-ua-mobile': '?1',\n",
    "           'Sec-Fetch-Dest': 'empty',\n",
    "           'Sec-Fetch-Mode': 'cors',\n",
    "           'Sec-Fetch-Site': 'same-site',\n",
    "           'User-Agent': 'Mozilla/5.0 (Linux; Android 6.0; Nexus 5 Build/MRA58N) AppleWebKit/537.36 (KHTML, like Gecko) Chrome/87.0.4280.141 Mobile Safari/537.36',\n",
    "           'x-nba-stats-origin': 'stats',\n",
    "           'x-nba-stats-token': 'true'}\n",
    "\n",
    "# first season with play-by-play data is 1996-97\n",
    "FIRST_SEASON = 1996\n",
    "LAST_SEASON = 2021\n",
    "ALL_SEASONS = [f'{x}-{str(x+1)[-2:]}' for x in range(FIRST_SEASON, LAST_SEASON+1)]"
   ]
  },
  {
   "cell_type": "markdown",
   "id": "fcbfc594-a173-4993-9c32-ae99ea071c4f",
   "metadata": {},
   "source": [
    "## Functions"
   ]
  },
  {
   "cell_type": "code",
   "execution_count": null,
   "id": "e26bcbe3-d1d3-4734-976c-3f560b16a406",
   "metadata": {},
   "outputs": [],
   "source": [
    "def download(base_folder_pbp = 'data/nba-api/pbp', \n",
    "             base_folder_rotation = 'data/nba-api/rotation', \n",
    "             seasons = ALL_SEASONS):\n",
    "    \n",
    "    if not os.path.exists(base_folder_pbp):\n",
    "        os.makedirs(base_folder_pbp)\n",
    "    if not os.path.exists(base_folder_rotation):\n",
    "        os.makedirs(base_folder_rotation)\n",
    "    \n",
    "    missing_dict = {}\n",
    "    for season in ALL_SEASONS:\n",
    "        try:\n",
    "            missing = _download_season(season, base_folder_pbp, base_folder_rotation)\n",
    "            missing_dict[season] = missing\n",
    "        except:\n",
    "            continue\n",
    "\n",
    "    return missing_dict\n",
    "\n",
    "\n",
    "def download_missing(missing_dict,\n",
    "                     base_folder_pbp = 'data/nba-api/pbp', \n",
    "                     base_folder_rotation = 'data/nba-api/rotation'):\n",
    "    \n",
    "    new_missing_dict = {}\n",
    "    \n",
    "    for season in missing_dict:\n",
    "        \n",
    "        print(season)\n",
    "        \n",
    "        # setup season paths\n",
    "        save_folder_pbp = f'{base_folder_pbp}/{season}'\n",
    "        save_folder_rotation = f'{base_folder_rotation}/{season}'\n",
    "\n",
    "        if not os.path.exists(save_folder_pbp):\n",
    "            os.makedirs(save_folder_pbp)\n",
    "        if not os.path.exists(save_folder_rotation):\n",
    "            os.makedirs(save_folder_rotation)\n",
    "            \n",
    "        missing_games = missing_dict[season]\n",
    "        \n",
    "        still_missing = []\n",
    "        for game_id in tqdm(missing_games):\n",
    "            is_downloaded = _download_game(game_id, save_folder_pbp, save_folder_rotation)\n",
    "            if is_downloaded == False:\n",
    "                still_missing.append(game_id)\n",
    "                \n",
    "        new_missing_dict[season] = still_missing\n",
    "        \n",
    "    return new_missing_dict\n",
    "            \n",
    "\n",
    "def _download_season(season, base_folder_pbp, base_folder_rotation):\n",
    "    \n",
    "    print(season)\n",
    "    \n",
    "    # setup season paths\n",
    "    save_folder_pbp = f'{base_folder_pbp}/{season}'\n",
    "    save_folder_rotation = f'{base_folder_rotation}/{season}'\n",
    "\n",
    "    if not os.path.exists(save_folder_pbp):\n",
    "        os.makedirs(save_folder_pbp)\n",
    "    if not os.path.exists(save_folder_rotation):\n",
    "        os.makedirs(save_folder_rotation)\n",
    "\n",
    "    # list all games\n",
    "    gamefinder = leaguegamefinder.LeagueGameFinder(season_nullable=season,\n",
    "                                                   season_type_nullable=SeasonType.regular, \n",
    "                                                   league_id_nullable=LeagueID.nba, \n",
    "                                                   headers=HEADERS)  \n",
    "    games_df = gamefinder.get_data_frames()[0]\n",
    "    game_ids = games_df.GAME_ID.unique()\n",
    "\n",
    "    # loop through games and download data \n",
    "    # store errored games\n",
    "    missing = []\n",
    "    for game_id in tqdm(game_ids): \n",
    "        is_downloaded = _download_game(game_id, save_folder_pbp, save_folder_rotation)\n",
    "        if is_downloaded == False:\n",
    "            missing.append(game_id)\n",
    "    \n",
    "    return missing\n",
    "\n",
    "\n",
    "def _download_game(game_id, save_folder_pbp, save_folder_rotation):\n",
    "    \n",
    "    try:\n",
    "\n",
    "        save_file_pbp = f'{save_folder_pbp}/{game_id}.csv'\n",
    "        if not os.path.exists(save_file_pbp):\n",
    "            df_pbp = playbyplayv2.PlayByPlayV2(game_id, headers=HEADERS).get_data_frames()[0]\n",
    "            df_pbp.to_csv(save_file_pbp, index=None)\n",
    "            time.sleep(1) # not sure if needed, seems to maybe help\n",
    "\n",
    "        save_file_rotation = f'{save_folder_rotation}/{game_id}.csv'\n",
    "        if not os.path.exists(save_file_rotation):\n",
    "            df_rotation = gamerotation.GameRotation(game_id, headers=HEADERS).get_data_frames()\n",
    "            df_rotation = pd.concat(df_rotation, ignore_index=True)\n",
    "            df_rotation.to_csv(save_file_rotation, index=None)\n",
    "            time.sleep(1) # not sure if needed, seems to maybe help\n",
    "            \n",
    "        return True\n",
    "\n",
    "    except Exception as e:\n",
    "        return False\n"
   ]
  },
  {
   "cell_type": "markdown",
   "id": "94b3cf83-b748-4c84-9d1e-19e195546aa9",
   "metadata": {},
   "source": [
    "## Run"
   ]
  },
  {
   "cell_type": "code",
   "execution_count": null,
   "id": "07ddb691-61db-4280-a08b-7dfb923e8160",
   "metadata": {},
   "outputs": [],
   "source": [
    "%%time\n",
    "missing = download()"
   ]
  },
  {
   "cell_type": "code",
   "execution_count": null,
   "id": "22df5530-2dbe-4dfb-8db4-10d32fa741a4",
   "metadata": {},
   "outputs": [],
   "source": [
    "%%time\n",
    "still_missing = download_missing(missing)"
   ]
  }
 ],
 "metadata": {
  "kernelspec": {
   "display_name": "Python 3 (ipykernel)",
   "language": "python",
   "name": "python3"
  },
  "language_info": {
   "codemirror_mode": {
    "name": "ipython",
    "version": 3
   },
   "file_extension": ".py",
   "mimetype": "text/x-python",
   "name": "python",
   "nbconvert_exporter": "python",
   "pygments_lexer": "ipython3",
   "version": "3.9.15"
  }
 },
 "nbformat": 4,
 "nbformat_minor": 5
}

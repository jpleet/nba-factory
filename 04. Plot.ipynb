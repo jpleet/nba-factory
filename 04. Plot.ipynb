{
 "cells": [
  {
   "cell_type": "markdown",
   "id": "4b20d65f-3890-4349-bef2-bf8850a3b3b0",
   "metadata": {},
   "source": [
    "# Plot Contribution Predictions"
   ]
  },
  {
   "cell_type": "code",
   "execution_count": null,
   "id": "51c9207f-680e-4656-b35c-d79edd1d9143",
   "metadata": {},
   "outputs": [],
   "source": [
    "import pandas as pd\n",
    "import plotly.express as px\n",
    "import plotly.io as pio\n",
    "from glob import glob\n",
    "from tqdm import tqdm"
   ]
  },
  {
   "cell_type": "code",
   "execution_count": null,
   "id": "f9fa4fe4-9059-449b-8666-f856a2cd973d",
   "metadata": {},
   "outputs": [],
   "source": [
    "player_info = pd.read_csv('data/raw_pbp/playerlist.csv', index_col=[0])"
   ]
  },
  {
   "cell_type": "code",
   "execution_count": null,
   "id": "9383a839-40d7-4c5f-bdbc-ab2aced54e49",
   "metadata": {},
   "outputs": [],
   "source": [
    "pred_files = sorted(glob('data/contribution_predictions/*.pkl'))"
   ]
  },
  {
   "cell_type": "code",
   "execution_count": null,
   "id": "6e0252e6-deb5-485e-b9ba-84554ec8164e",
   "metadata": {},
   "outputs": [],
   "source": [
    "for pred_file in tqdm(pred_files):\n",
    "    \n",
    "    df = pd.read_pickle(pred_file)\n",
    "    \n",
    "    df['weight'] = 1 / df.cv_mse\n",
    "    \n",
    "    player_off = df.groupby('PERSON_ID').apply(lambda x: (x['weight'] * x['off_contribution_norm']).sum() / x['weight'].sum()).reset_index()\n",
    "    player_off.rename(columns={0:'off'}, inplace=True)\n",
    "\n",
    "    player_def = df.groupby('PERSON_ID').apply(lambda x: (x['weight'] * x['def_contribution_norm']).sum() / x['weight'].sum()).reset_index()\n",
    "    player_def.rename(columns={0:'def'}, inplace=True)\n",
    "\n",
    "    player_time = df.groupby('PERSON_ID').TIME.min().reset_index()\n",
    "    player_time.rename(columns={0:'time'}, inplace=True)\n",
    "    \n",
    "    res = pd.merge(player_off, player_def, on='PERSON_ID').merge(player_time, on='PERSON_ID')\n",
    "    res = res.merge(player_info[['PERSON_ID', 'DISPLAY_FIRST_LAST']], on='PERSON_ID')\n",
    "    \n",
    "    fig = px.scatter(res, x=\"off\", y=\"def\", hover_name='DISPLAY_FIRST_LAST', size='TIME')\n",
    "\n",
    "    fig.add_vline(x=0, line_width=2, line_dash=\"dash\", line_color=\"red\")\n",
    "    fig.add_hline(y=0, line_width=2, line_dash=\"dash\", line_color=\"red\")\n",
    "\n",
    "    #fig.show()\n",
    "\n",
    "    pio.write_html(fig, file='plots/' + pred_file.split('/')[-1].replace('.pkl', '.html'), auto_open=False)"
   ]
  }
 ],
 "metadata": {
  "kernelspec": {
   "display_name": "Python 3",
   "language": "python",
   "name": "python3"
  },
  "language_info": {
   "codemirror_mode": {
    "name": "ipython",
    "version": 3
   },
   "file_extension": ".py",
   "mimetype": "text/x-python",
   "name": "python",
   "nbconvert_exporter": "python",
   "pygments_lexer": "ipython3",
   "version": "3.9.6"
  }
 },
 "nbformat": 4,
 "nbformat_minor": 5
}

{
 "cells": [
  {
   "cell_type": "markdown",
   "id": "b63802c9-b828-4eee-a9f0-c21ae36f3b11",
   "metadata": {},
   "source": [
    "UNDER DEVELOPMENT\n",
    "- all seasons field-aware factorization machine"
   ]
  },
  {
   "cell_type": "code",
   "execution_count": null,
   "id": "93183a8f-5ab8-4830-9c69-8087d02e8886",
   "metadata": {},
   "outputs": [],
   "source": [
    "import pandas as pd\n",
    "import numpy as np\n",
    "from glob import glob\n",
    "from tqdm import tqdm\n",
    "\n",
    "import plotly.express as px"
   ]
  },
  {
   "cell_type": "code",
   "execution_count": null,
   "id": "fdcc9d56-0763-4ff6-a792-0324c97cde6e",
   "metadata": {},
   "outputs": [],
   "source": [
    "player_info = pd.read_csv('data/raw_pbp/playerlist.csv', index_col=[0])\n",
    "season_files = sorted(glob('data/lineup_scores/*.pkl'))"
   ]
  },
  {
   "cell_type": "code",
   "execution_count": null,
   "id": "dfce2926-d32f-4302-8bdd-a757768d97e3",
   "metadata": {},
   "outputs": [],
   "source": [
    "player_times = []\n",
    "for season_file in tqdm(season_files):\n",
    "    \n",
    "    df = pd.read_pickle(season_file)\n",
    "\n",
    "    player_time = pd.DataFrame()\n",
    "    player_time['PERSON_ID'] = df[['off1', 'off2','off3', 'off4', 'off5', 'def1', 'def2', 'def3', 'def4', 'def5']].stack().values\n",
    "    player_time['TIME'] = df.seconds.repeat(10).values\n",
    "    player_time = player_time.groupby('PERSON_ID').TIME.sum().reset_index()\n",
    "    player_time['season'] = season_file.split('/')[-1].split('.')[0]\n",
    "    \n",
    "    player_times.append(player_time)\n",
    "    \n",
    "player_times = pd.concat(player_times, ignore_index=True)"
   ]
  },
  {
   "cell_type": "code",
   "execution_count": null,
   "id": "e907964b-caf0-4308-a0ac-e1399c0a20f8",
   "metadata": {},
   "outputs": [],
   "source": [
    "all_pred_df = pd.read_pickle('data/ffm/all_pred_df.pkl')"
   ]
  },
  {
   "cell_type": "code",
   "execution_count": null,
   "id": "327e1e12-8ea9-4513-9abd-b9102b06b873",
   "metadata": {},
   "outputs": [],
   "source": [
    "all_pred_df['weight'] = 1 / all_pred_df.cv_mse\n",
    "pred_grp = all_pred_df.groupby(['PERSON_ID', 'season', 'poss']).apply(lambda x: (x['weight'] * x['pred']).sum() / x['weight'].sum()).reset_index()"
   ]
  },
  {
   "cell_type": "code",
   "execution_count": null,
   "id": "ef6c066b-8978-43e8-8945-6011caccdd57",
   "metadata": {},
   "outputs": [],
   "source": [
    "of = pred_grp[pred_grp.poss==0].copy()\n",
    "df = pred_grp[pred_grp.poss==1].copy()"
   ]
  },
  {
   "cell_type": "code",
   "execution_count": null,
   "id": "3bce8c1c-d5e2-4988-99fa-9d317ec5e258",
   "metadata": {},
   "outputs": [],
   "source": [
    "of.rename(columns={0:'off'}, inplace=True)\n",
    "df.rename(columns={0:'def'}, inplace=True)\n",
    "of.drop(columns='poss', inplace=True)\n",
    "df.drop(columns='poss', inplace=True)"
   ]
  },
  {
   "cell_type": "code",
   "execution_count": null,
   "id": "cd6728c6-695b-480a-84bd-eb4e80725598",
   "metadata": {},
   "outputs": [],
   "source": [
    "pred_grp = pd.merge(of, df, on=['PERSON_ID', 'season'])"
   ]
  },
  {
   "cell_type": "code",
   "execution_count": null,
   "id": "63e0d3d8-545d-40fd-9540-a58019d54c40",
   "metadata": {},
   "outputs": [],
   "source": [
    "pred_grp = pred_grp.merge(player_times, on=['PERSON_ID', 'season'], how='left')"
   ]
  },
  {
   "cell_type": "code",
   "execution_count": null,
   "id": "3bfffdec-2945-4f9b-b892-cb97097f36c1",
   "metadata": {},
   "outputs": [],
   "source": [
    "pred_grp = pred_grp.merge(player_info[['DISPLAY_FIRST_LAST', 'PERSON_ID']], on='PERSON_ID', how='left')"
   ]
  },
  {
   "cell_type": "code",
   "execution_count": null,
   "id": "ad1c2805-bf8e-43b9-a243-be9f70e8053c",
   "metadata": {},
   "outputs": [],
   "source": [
    "pred_career = pred_grp.groupby(['PERSON_ID', 'DISPLAY_FIRST_LAST']).agg({'off' : 'mean', 'def' : 'mean', 'TIME' : 'sum'}).reset_index()"
   ]
  },
  {
   "cell_type": "code",
   "execution_count": null,
   "id": "3a65a40a-999c-4da6-a981-b17d2e9eafe7",
   "metadata": {},
   "outputs": [],
   "source": [
    "pred_career['contribution'] = np.exp(pred_career['off']) / np.exp(pred_career['def'])"
   ]
  },
  {
   "cell_type": "code",
   "execution_count": null,
   "id": "76b601a4-958a-4779-8ce4-c0eb12e148ed",
   "metadata": {},
   "outputs": [],
   "source": [
    "fig = px.scatter(pred_career, x=\"off\", y=\"def\", hover_name='DISPLAY_FIRST_LAST', size='TIME')\n",
    "\n",
    "fig.add_vline(x=0, line_width=2, line_dash=\"dash\", line_color=\"red\")\n",
    "fig.add_hline(y=0, line_width=2, line_dash=\"dash\", line_color=\"red\")\n",
    "\n",
    "fig.show()"
   ]
  }
 ],
 "metadata": {
  "kernelspec": {
   "display_name": "Python 3",
   "language": "python",
   "name": "python3"
  },
  "language_info": {
   "codemirror_mode": {
    "name": "ipython",
    "version": 3
   },
   "file_extension": ".py",
   "mimetype": "text/x-python",
   "name": "python",
   "nbconvert_exporter": "python",
   "pygments_lexer": "ipython3",
   "version": "3.9.6"
  }
 },
 "nbformat": 4,
 "nbformat_minor": 5
}
